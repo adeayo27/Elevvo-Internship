{
 "cells": [
  {
   "cell_type": "markdown",
   "id": "53885261",
   "metadata": {},
   "source": [
    "##  Task 5:  Movie Recommendation System Description"
   ]
  },
  {
   "cell_type": "code",
   "execution_count": null,
   "id": "cc7acdf1",
   "metadata": {},
   "outputs": [],
   "source": [
    "# Load libraries\n",
    "import pandas as pd\n",
    "import numpy as np\n",
    "from sklearn.metrics.pairwise import cosine_similarity\n",
    "from sklearn.model_selection import train_test_split\n",
    "from sklearn.metrics import precision_score\n",
    "from sklearn.decomposition import TruncatedSVD"
   ]
  },
  {
   "cell_type": "code",
   "execution_count": 28,
   "id": "2fb76e21",
   "metadata": {},
   "outputs": [
    {
     "name": "stdout",
     "output_type": "stream",
     "text": [
      "   user_id  movie_id  rating  timestamp                       title\n",
      "0      196       242       3  881250949                Kolya (1996)\n",
      "1      186       302       3  891717742    L.A. Confidential (1997)\n",
      "2       22       377       1  878887116         Heavyweights (1994)\n",
      "3      244        51       2  880606923  Legends of the Fall (1994)\n",
      "4      166       346       1  886397596         Jackie Brown (1997)\n",
      "<class 'pandas.core.frame.DataFrame'>\n",
      "RangeIndex: 100000 entries, 0 to 99999\n",
      "Data columns (total 5 columns):\n",
      " #   Column     Non-Null Count   Dtype \n",
      "---  ------     --------------   ----- \n",
      " 0   user_id    100000 non-null  int64 \n",
      " 1   movie_id   100000 non-null  int64 \n",
      " 2   rating     100000 non-null  int64 \n",
      " 3   timestamp  100000 non-null  int64 \n",
      " 4   title      100000 non-null  object\n",
      "dtypes: int64(4), object(1)\n",
      "memory usage: 3.8+ MB\n",
      "None\n",
      "Unique users: 943, Unique movies: 1682\n"
     ]
    }
   ],
   "source": [
    "ratings_path = 'ml-100k/u.data'\n",
    "movies_path = 'ml-100k/u.item'\n",
    "\n",
    "# Load ratings\n",
    "ratings = pd.read_csv(ratings_path, sep='\\t', names=['user_id', 'movie_id', 'rating', 'timestamp'])\n",
    "\n",
    "# Load movies (only need id and title)\n",
    "movies = pd.read_csv(movies_path, sep='|', encoding='latin-1', usecols=[0, 1], names=['movie_id', 'title'])\n",
    "movies['movie_id'] = movies['movie_id'].astype(int)  # Ensure int type\n",
    "\n",
    "# Merge for movie titles\n",
    "ratings = pd.merge(ratings, movies, on='movie_id')\n",
    "\n",
    "# Display info\n",
    "print(ratings.head())\n",
    "print(ratings.info())\n",
    "print(f\"Unique users: {ratings['user_id'].nunique()}, Unique movies: {ratings['movie_id'].nunique()}\")"
   ]
  },
  {
   "cell_type": "code",
   "execution_count": 29,
   "id": "05437d32",
   "metadata": {},
   "outputs": [
    {
     "name": "stdout",
     "output_type": "stream",
     "text": [
      "Sparsity: 6.30%\n"
     ]
    }
   ],
   "source": [
    "# Check sparsity\n",
    "total_possible = ratings['user_id'].nunique() * ratings['movie_id'].nunique()\n",
    "sparsity = (len(ratings) / total_possible) * 100\n",
    "print(f\"Sparsity: {sparsity:.2f}%\")"
   ]
  },
  {
   "cell_type": "code",
   "execution_count": 30,
   "id": "7221c212",
   "metadata": {},
   "outputs": [],
   "source": [
    "# Split into train/test\n",
    "train_data, test_data = train_test_split(ratings, test_size=0.2, random_state=42)"
   ]
  },
  {
   "cell_type": "code",
   "execution_count": 32,
   "id": "5dce8f4e",
   "metadata": {},
   "outputs": [
    {
     "name": "stdout",
     "output_type": "stream",
     "text": [
      "(943, 1653)\n"
     ]
    }
   ],
   "source": [
    "# User-item matrix (train data)\n",
    "user_item_matrix = train_data.pivot_table(index='user_id', columns='movie_id', values='rating')\n",
    "user_item_matrix = user_item_matrix.fillna(0)\n",
    "print(user_item_matrix.shape)"
   ]
  },
  {
   "cell_type": "code",
   "execution_count": 34,
   "id": "2effa6e2",
   "metadata": {},
   "outputs": [
    {
     "name": "stdout",
     "output_type": "stream",
     "text": [
      "user_id       1         2         3         4         5         6         7    \\\n",
      "user_id                                                                         \n",
      "1        1.000000  0.136196  0.030424  0.026203  0.284613  0.331412  0.319056   \n",
      "2        0.136196  1.000000  0.114644  0.168220  0.093128  0.162165  0.095848   \n",
      "3        0.030424  0.114644  1.000000  0.346894  0.000000  0.085071  0.032829   \n",
      "4        0.026203  0.168220  0.346894  1.000000  0.011848  0.051287  0.075209   \n",
      "5        0.284613  0.093128  0.000000  0.011848  1.000000  0.168527  0.298438   \n",
      "\n",
      "user_id       8         9         10   ...       934       935       936  \\\n",
      "user_id                                ...                                 \n",
      "1        0.274139  0.083486  0.281396  ...  0.277459  0.084849  0.205849   \n",
      "2        0.091360  0.149476  0.125701  ...  0.149359  0.268977  0.320095   \n",
      "3        0.053875  0.060177  0.052552  ...  0.021713  0.017707  0.154299   \n",
      "4        0.142100  0.060465  0.035202  ...  0.034908  0.044480  0.087428   \n",
      "5        0.185290  0.039737  0.166013  ...  0.276012  0.103529  0.085547   \n",
      "\n",
      "user_id       937       938       939       940       941       942       943  \n",
      "user_id                                                                        \n",
      "1        0.144161  0.133679  0.092367  0.216948  0.084181  0.104599  0.329288  \n",
      "2        0.323347  0.241012  0.152655  0.230951  0.117484  0.166632  0.096719  \n",
      "3        0.049358  0.107604  0.019022  0.101207  0.021959  0.127179  0.013805  \n",
      "4        0.118082  0.100612  0.000000  0.151086  0.110324  0.112342  0.032367  \n",
      "5        0.072429  0.104445  0.049198  0.204472  0.148028  0.099978  0.247527  \n",
      "\n",
      "[5 rows x 943 columns]\n"
     ]
    }
   ],
   "source": [
    "user_similarity = cosine_similarity(user_item_matrix)\n",
    "user_similarity_df = pd.DataFrame(user_similarity, index=user_item_matrix.index, columns=user_item_matrix.index)\n",
    "print(user_similarity_df.head())"
   ]
  },
  {
   "cell_type": "code",
   "execution_count": 35,
   "id": "4079da0f",
   "metadata": {},
   "outputs": [
    {
     "name": "stdout",
     "output_type": "stream",
     "text": [
      "                                    title  predicted_rating\n",
      "0                            Fargo (1996)          3.802328\n",
      "1                       Get Shorty (1995)          3.611206\n",
      "2               Return of the Jedi (1983)          3.596395\n",
      "3  One Flew Over the Cuckoo's Nest (1975)          3.512580\n",
      "4       E.T. the Extra-Terrestrial (1982)          3.504424\n"
     ]
    }
   ],
   "source": [
    "def recommend_movies(user_id, n=5, k_similar=10):\n",
    "    # Get similar users (top K excluding self)\n",
    "    similar_users = user_similarity_df[user_id].sort_values(ascending=False)[1:k_similar+1].index\n",
    "    \n",
    "    # Ratings from similar users\n",
    "    similar_ratings = user_item_matrix.loc[similar_users]\n",
    "    \n",
    "    # Weighted average ratings (by similarity)\n",
    "    sim_scores = user_similarity_df.loc[similar_users, user_id]\n",
    "    predicted_ratings = np.dot(similar_ratings.T, sim_scores) / sim_scores.sum()\n",
    "    \n",
    "    # DataFrame of predictions\n",
    "    predictions = pd.Series(predicted_ratings, index=user_item_matrix.columns)\n",
    "    \n",
    "    # Unseen movies (user's ratings == 0)\n",
    "    unseen = user_item_matrix.loc[user_id][user_item_matrix.loc[user_id] == 0].index\n",
    "    \n",
    "    # Top N unseen with highest predicted ratings\n",
    "    recommendations = predictions[unseen].sort_values(ascending=False)[:n]\n",
    "    \n",
    "    # Create DF from recommendations and merge with movies\n",
    "    rec_df = pd.DataFrame({'movie_id': recommendations.index.astype(int), 'predicted_rating': recommendations.values})\n",
    "    rec_movies = rec_df.merge(movies, on='movie_id', how='left')\n",
    "    \n",
    "    # Check for 'title' (raise if missing)\n",
    "    if 'title' not in rec_movies.columns:\n",
    "        print(\"Merge failed. movies columns:\", movies.columns.tolist())\n",
    "        print(\"rec_df movie_id sample:\", rec_df['movie_id'].head())\n",
    "        print(\"movies movie_id sample:\", movies['movie_id'].head())\n",
    "        raise KeyError(\"'title' column missing after merge. Check movie_id matches/types or movies load.\")\n",
    "    \n",
    "    return rec_movies[['title', 'predicted_rating']]\n",
    "\n",
    "# Example: Recommend for user 1\n",
    "print(recommend_movies(user_id=1, n=5))"
   ]
  },
  {
   "cell_type": "code",
   "execution_count": 38,
   "id": "d73be338",
   "metadata": {},
   "outputs": [
    {
     "name": "stdout",
     "output_type": "stream",
     "text": [
      "['movie_id', 'title']\n",
      "   movie_id              title\n",
      "0         1   Toy Story (1995)\n",
      "1         2   GoldenEye (1995)\n",
      "2         3  Four Rooms (1995)\n",
      "3         4  Get Shorty (1995)\n",
      "4         5     Copycat (1995)\n",
      "int64\n"
     ]
    }
   ],
   "source": [
    "movies = pd.read_csv('ml-100k/u.item', sep='|', encoding='latin-1', usecols=[0, 1], names=['movie_id', 'title'])\n",
    "print(movies.columns.tolist())  # Should be ['movie_id', 'title']\n",
    "print(movies.head())  # Check data\n",
    "print(movies['movie_id'].dtype)  # int64"
   ]
  },
  {
   "cell_type": "code",
   "execution_count": 36,
   "id": "13b1677b",
   "metadata": {},
   "outputs": [
    {
     "name": "stdout",
     "output_type": "stream",
     "text": [
      "                                    title  predicted_rating\n",
      "0                            Fargo (1996)          3.802328\n",
      "1                       Get Shorty (1995)          3.611206\n",
      "2               Return of the Jedi (1983)          3.596395\n",
      "3  One Flew Over the Cuckoo's Nest (1975)          3.512580\n",
      "4       E.T. the Extra-Terrestrial (1982)          3.504424\n"
     ]
    }
   ],
   "source": [
    "def recommend_movies(user_id, n=5, k_similar=10):\n",
    "    # Get similar users (top K excluding self)\n",
    "    similar_users = user_similarity_df[user_id].sort_values(ascending=False)[1:k_similar+1].index\n",
    "    \n",
    "    # Ratings from similar users\n",
    "    similar_ratings = user_item_matrix.loc[similar_users]\n",
    "    \n",
    "    # Weighted average ratings (by similarity)\n",
    "    sim_scores = user_similarity_df.loc[similar_users, user_id]\n",
    "    predicted_ratings = np.dot(similar_ratings.T, sim_scores) / sim_scores.sum()\n",
    "    \n",
    "    # DataFrame of predictions\n",
    "    predictions = pd.Series(predicted_ratings, index=user_item_matrix.columns)\n",
    "    \n",
    "    # Unseen movies (user's ratings == 0)\n",
    "    unseen = user_item_matrix.loc[user_id][user_item_matrix.loc[user_id] == 0].index\n",
    "    \n",
    "    # Top N unseen with highest predicted ratings\n",
    "    recommendations = predictions[unseen].sort_values(ascending=False)[:n]\n",
    "    \n",
    "    # Create DF from recommendations and merge with movies\n",
    "    rec_df = pd.DataFrame({'movie_id': recommendations.index.astype(int), 'predicted_rating': recommendations.values})\n",
    "    rec_movies = rec_df.merge(movies, on='movie_id', how='left')\n",
    "    \n",
    "    # Check for 'title' (raise if missing)\n",
    "    if 'title' not in rec_movies.columns:\n",
    "        print(\"Merge failed. movies columns:\", movies.columns.tolist())\n",
    "        print(\"rec_df movie_id sample:\", rec_df['movie_id'].head())\n",
    "        print(\"movies movie_id sample:\", movies['movie_id'].head())\n",
    "        raise KeyError(\"'title' column missing after merge. Check movie_id matches/types or movies load.\")\n",
    "    \n",
    "    return rec_movies[['title', 'predicted_rating']]\n",
    "\n",
    "# Example: Recommend for user 1\n",
    "print(recommend_movies(user_id=1, n=5))"
   ]
  },
  {
   "cell_type": "markdown",
   "id": "9b1497c8",
   "metadata": {},
   "source": [
    "## BONUS"
   ]
  },
  {
   "cell_type": "code",
   "execution_count": 37,
   "id": "3d211b6f",
   "metadata": {},
   "outputs": [
    {
     "name": "stdout",
     "output_type": "stream",
     "text": [
      "                        title  predicted_rating\n",
      "0                 Heat (1995)          3.278345\n",
      "1  Blues Brothers, The (1980)          3.035114\n",
      "2           Piano, The (1993)          2.823149\n",
      "3       Reservoir Dogs (1992)          2.717629\n",
      "4         My Left Foot (1989)          2.705065\n"
     ]
    }
   ],
   "source": [
    "svd = TruncatedSVD(n_components=50, random_state=42)\n",
    "matrix_reduced = svd.fit_transform(user_item_matrix)\n",
    "\n",
    "# Reconstructed matrix\n",
    "predicted_matrix = np.dot(matrix_reduced, svd.components_)\n",
    "predicted_df = pd.DataFrame(predicted_matrix, index=user_item_matrix.index, columns=user_item_matrix.columns)\n",
    "\n",
    "def recommend_svd(user_id, n=5):\n",
    "    predictions = predicted_df.loc[user_id]\n",
    "    unseen = user_item_matrix.loc[user_id][user_item_matrix.loc[user_id] == 0].index\n",
    "    recommendations = predictions[unseen].sort_values(ascending=False)[:n]\n",
    "    \n",
    "    # Create DF from recommendations and merge\n",
    "    rec_df = pd.DataFrame({'movie_id': recommendations.index.astype(int), 'predicted_rating': recommendations.values})\n",
    "    rec_movies = rec_df.merge(movies, on='movie_id', how='left')\n",
    "    \n",
    "    # Check for 'title'\n",
    "    if 'title' not in rec_movies.columns:\n",
    "        print(\"Merge failed in SVD.\")\n",
    "        raise KeyError(\"'title' column missing after merge.\")\n",
    "    \n",
    "    return rec_movies[['title', 'predicted_rating']]\n",
    "\n",
    "# Example\n",
    "print(recommend_svd(user_id=1, n=5))"
   ]
  }
 ],
 "metadata": {
  "kernelspec": {
   "display_name": "Python 3",
   "language": "python",
   "name": "python3"
  },
  "language_info": {
   "codemirror_mode": {
    "name": "ipython",
    "version": 3
   },
   "file_extension": ".py",
   "mimetype": "text/x-python",
   "name": "python",
   "nbconvert_exporter": "python",
   "pygments_lexer": "ipython3",
   "version": "3.13.3"
  }
 },
 "nbformat": 4,
 "nbformat_minor": 5
}
